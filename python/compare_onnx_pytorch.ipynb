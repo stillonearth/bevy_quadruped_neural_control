{
 "cells": [
  {
   "cell_type": "code",
   "execution_count": 36,
   "metadata": {},
   "outputs": [],
   "source": [
    "import torch\n",
    "import numpy as np\n",
    "import onnxruntime as ort\n",
    "from stable_baselines3 import SAC"
   ]
  },
  {
   "cell_type": "code",
   "execution_count": 37,
   "metadata": {},
   "outputs": [],
   "source": [
    "torch_model = SAC.load('./../assets/g1-forward')"
   ]
  },
  {
   "cell_type": "code",
   "execution_count": 38,
   "metadata": {},
   "outputs": [],
   "source": [
    "input = np.array([0.0] * 119).reshape(1, 119).astype(np.float32)"
   ]
  },
  {
   "cell_type": "code",
   "execution_count": 51,
   "metadata": {},
   "outputs": [
    {
     "data": {
      "text/plain": [
       "array([-5232.02768734, -9256.49316448, -9769.03249478,  4742.5439958 ,\n",
       "        4766.3663854 , -9727.51090693, -7289.71801066, -4803.99115235,\n",
       "       -9639.31192291,  7165.20577157, -4364.83300203, -9530.80311477])"
      ]
     },
     "execution_count": 51,
     "metadata": {},
     "output_type": "execute_result"
    }
   ],
   "source": [
    "torch_mean = np.zeros(12)\n",
    "\n",
    "n_iter = 10000\n",
    "for i in range(n_iter):\n",
    "    torch_mean += torch_model.policy.predict(torch.from_numpy(input).float())[0][0]\n",
    "\n",
    "torch_mean/n_iter\n",
    "torch_mean"
   ]
  },
  {
   "cell_type": "code",
   "execution_count": 52,
   "metadata": {},
   "outputs": [
    {
     "data": {
      "text/plain": [
       "Box([-0.802851 -1.0472   -2.69653  -0.802851 -1.0472   -2.69653  -0.802851\n",
       " -1.0472   -2.69653  -0.802851 -1.0472   -2.69653 ], [ 0.802851  4.18879  -0.916298  0.802851  4.18879  -0.916298  0.802851\n",
       "  4.18879  -0.916298  0.802851  4.18879  -0.916298], (12,), float32)"
      ]
     },
     "execution_count": 52,
     "metadata": {},
     "output_type": "execute_result"
    }
   ],
   "source": [
    "torch_model.policy.action_space"
   ]
  },
  {
   "cell_type": "code",
   "execution_count": null,
   "metadata": {},
   "outputs": [],
   "source": [
    "def scale_action(scaled_action ,action_space):\n",
    "    low, high = action_space.low, action_space.high\n",
    "    return low + (0.5 * (scaled_action + 1.0) * (high - low))"
   ]
  },
  {
   "cell_type": "code",
   "execution_count": 46,
   "metadata": {},
   "outputs": [
    {
     "data": {
      "text/plain": [
       "array([-6514.36762797, -9523.70335982,  9328.56398707,  5927.71452494,\n",
       "       -4158.10327213,  9337.60048291, -9094.07935127, -7836.99624672,\n",
       "        9462.4126415 ,  8929.80290843, -7671.65321006,  9574.82129016])"
      ]
     },
     "execution_count": 46,
     "metadata": {},
     "output_type": "execute_result"
    }
   ],
   "source": [
    "onnx_mean = np.zeros(12)\n",
    "ort_sess = ort.InferenceSession('./../assets/g1-forward.onnx')\n",
    "\n",
    "n_iter = 10000\n",
    "for i in range(n_iter):\n",
    "    onnx_mean += ort_sess.run(None, {'obs': input})[0][0]\n",
    "\n",
    "onnx_mean/n_iter\n",
    "onnx_mean"
   ]
  },
  {
   "cell_type": "code",
   "execution_count": null,
   "metadata": {},
   "outputs": [],
   "source": []
  }
 ],
 "metadata": {
  "kernelspec": {
   "display_name": "torch",
   "language": "python",
   "name": "python3"
  },
  "language_info": {
   "codemirror_mode": {
    "name": "ipython",
    "version": 3
   },
   "file_extension": ".py",
   "mimetype": "text/x-python",
   "name": "python",
   "nbconvert_exporter": "python",
   "pygments_lexer": "ipython3",
   "version": "3.10.8"
  },
  "orig_nbformat": 4,
  "vscode": {
   "interpreter": {
    "hash": "82ea6adb180b12ed72836e614d5d57295654ca2a9780d621124b81b6a9baa809"
   }
  }
 },
 "nbformat": 4,
 "nbformat_minor": 2
}
